import sys

kullanıcı_adı= ("esever")
kullanıcı_şifre= ("erdem123")
güvenlik_sorusu= ("en sevdiğin yemek")
güvenlik_sorusu_cevap= ("makarna")

kullanıcının_adı= input("Kullanıcı adınızı giriniz")
if kullanıcı_adı == kullanıcının_adı:
    kullanıcın_şifresi= input("Şifrenizi giriniz")
    if kullanıcın_şifresi == kullanıcı_şifre:
        print ("GİRİŞ BAŞARILI \nHOŞGELDİNİZ")
        sys.exit()
print ("Giriş başarısız lütfen tekrar deneyiniz \nSON 2 HAKKINIZ")

kullanıcının_adı= input("Kullanıcı adınızı giriniz")
if kullanıcı_adı == kullanıcının_adı:
    kullanıcın_şifresi= input("Şifrenizi giriniz")
    if kullanıcın_şifresi == kullanıcı_şifre:
        print ("GİRİŞ BAŞARILI \nHOŞGELDİNİZ")
        sys.exit()
print ("Giriş başarısız lütfen tekrar deneyiniz \nSON HAKKINIZ")
kullanıcının_adı= input("Kullanıcı adınızı giriniz")
if kullanıcı_adı == kullanıcının_adı:
    kullanıcın_şifresi= input("Şifrenizi giriniz")
    if kullanıcın_şifresi == kullanıcı_şifre:
        print ("GİRİŞ BAŞARILI \nHOŞGELDİNİZ")
        sys.exit()
print ("Giriş başarısız. Lütfen şifrenizi yenileyiniz")
sorulan_soru= input("Size verilen güvenlik sorusunu yazınız")
if güvenlik_sorusu == sorulan_soru:
    güvenlik_cevap= input("Güvenlik sorusuna verdiğiniz cevabı yazınız")
    if güvenlik_sorusu_cevap == güvenlik_cevap:
        yeni_şifre= input("Yeni şifrenizi giriniz")
        yeni_şifre_tekrar= input("Yeni şifrenizi tekrar giriniz")
        if yeni_şifre == yeni_şifre_tekrar: 
            kullanıcı_şifre = yeni_şifre
            print ("TEKRARDAN HOŞGELDİNİZ:)")
