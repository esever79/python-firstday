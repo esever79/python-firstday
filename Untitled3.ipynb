{
 "cells": [
  {
   "cell_type": "code",
   "execution_count": null,
   "metadata": {},
   "outputs": [
    {
     "name": "stdout",
     "output_type": "stream",
     "text": [
      "Kullanıcı adınızı girinizesever\n",
      "Şifrenizi giriniz1\n",
      "Giriş başarısız lütfen tekrar deneyiniz \n",
      "SON 2 HAKKINIZ\n"
     ]
    }
   ],
   "source": [
    "import sys\n",
    "\n",
    "kullanıcı_adı= (\"esever\")\n",
    "kullanıcı_şifre= (\"erdem123\")\n",
    "güvenlik_sorusu= (\"en sevdiğin yemek\")\n",
    "güvenlik_sorusu_cevap= (\"makarna\")\n",
    "\n",
    "kullanıcının_adı= input(\"Kullanıcı adınızı giriniz\")\n",
    "if kullanıcı_adı == kullanıcının_adı:\n",
    "    kullanıcın_şifresi= input(\"Şifrenizi giriniz\")\n",
    "    if kullanıcın_şifresi == kullanıcı_şifre:\n",
    "        print (\"GİRİŞ BAŞARILI \\nHOŞGELDİNİZ\")\n",
    "        sys.exit()\n",
    "print (\"Giriş başarısız lütfen tekrar deneyiniz \\nSON 2 HAKKINIZ\")\n",
    "\n",
    "kullanıcının_adı= input(\"Kullanıcı adınızı giriniz\")\n",
    "if kullanıcı_adı == kullanıcının_adı:\n",
    "    kullanıcın_şifresi= input(\"Şifrenizi giriniz\")\n",
    "    if kullanıcın_şifresi == kullanıcı_şifre:\n",
    "        print (\"GİRİŞ BAŞARILI \\nHOŞGELDİNİZ\")\n",
    "        sys.exit()\n",
    "print (\"Giriş başarısız lütfen tekrar deneyiniz \\nSON HAKKINIZ\")\n",
    "kullanıcının_adı= input(\"Kullanıcı adınızı giriniz\")\n",
    "if kullanıcı_adı == kullanıcının_adı:\n",
    "    kullanıcın_şifresi= input(\"Şifrenizi giriniz\")\n",
    "    if kullanıcın_şifresi == kullanıcı_şifre:\n",
    "        print (\"GİRİŞ BAŞARILI \\nHOŞGELDİNİZ\")\n",
    "        sys.exit()\n",
    "print (\"Giriş başarısız. Lütfen şifrenizi yenileyiniz\")\n",
    "sorulan_soru= input(\"Size verilen güvenlik sorusunu yazınız\")\n",
    "if güvenlik_sorusu == sorulan_soru:\n",
    "    güvenlik_cevap= input(\"Güvenlik sorusuna verdiğiniz cevabı yazınız\")\n",
    "    if güvenlik_sorusu_cevap == güvenlik_cevap:\n",
    "        yeni_şifre= input(\"Yeni şifrenizi giriniz\")\n",
    "        yeni_şifre_tekrar= input(\"Yeni şifrenizi tekrar giriniz\")\n",
    "        if yeni_şifre == yeni_şifre_tekrar: \n",
    "            kullanıcı_şifre = yeni_şifre\n",
    "            print (\"TEKRARDAN HOŞGELDİNİZ:)\")\n",
    "    \n",
    "    \n",
    "    \n",
    "    "
   ]
  },
  {
   "cell_type": "code",
   "execution_count": null,
   "metadata": {},
   "outputs": [],
   "source": []
  },
  {
   "cell_type": "code",
   "execution_count": null,
   "metadata": {},
   "outputs": [],
   "source": []
  },
  {
   "cell_type": "code",
   "execution_count": null,
   "metadata": {},
   "outputs": [],
   "source": []
  }
 ],
 "metadata": {
  "kernelspec": {
   "display_name": "Python 3",
   "language": "python",
   "name": "python3"
  },
  "language_info": {
   "codemirror_mode": {
    "name": "ipython",
    "version": 3
   },
   "file_extension": ".py",
   "mimetype": "text/x-python",
   "name": "python",
   "nbconvert_exporter": "python",
   "pygments_lexer": "ipython3",
   "version": "3.7.3"
  }
 },
 "nbformat": 4,
 "nbformat_minor": 2
}
